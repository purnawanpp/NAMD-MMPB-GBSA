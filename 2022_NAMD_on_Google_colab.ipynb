{
  "nbformat": 4,
  "nbformat_minor": 0,
  "metadata": {
    "colab": {
      "name": "Wawan_NAMD_on_Google_colab.ipynb",
      "provenance": [],
      "collapsed_sections": []
    },
    "kernelspec": {
      "name": "python3",
      "display_name": "Python 3"
    },
    "language_info": {
      "name": "python"
    },
    "accelerator": "GPU"
  },
  "cells": [
    {
      "cell_type": "markdown",
      "metadata": {
        "id": "Q9RAvPE9uymq"
      },
      "source": [
        "# **NAMD uses GPU By Purnawan Pontana Putra**\n",
        "NAMD menggunakan GPU By Purnawan Pontana Putra\n",
        "Simulasi Molecular Dynamics preparasi Script Menggunakan QWIKMD yang terdapat pada Aplikasi VMD\n",
        "Simulasi MD ini menggunakan GPU, jika ingin menggunakan GPU pada google colab klik runtime>ubah jenis runtime>Akselator Hardware> GPU\n",
        "GPU yang didapatkan dengan menggunakan google colab gratis yaitu NVIDIA TESLA K80 dengan runtime terbatas 12 jam\n",
        "\n",
        "--------------------------------------------------------------\n",
        "\n",
        "Molecular Dynamics Simulation Script preparation Using QWIKMD found in the VMD Application.\n",
        "This MD simulation uses the GPU. If you want to use the GPU on google colab click runtime>change runtime type>Hardware Accelerator>GPU\n",
        "The GPU obtained by using google colab for free is NVIDIA TESLA K80 with a limited runtime of 12 hours.\n",
        "\n",
        "\n"
      ]
    },
    {
      "cell_type": "code",
      "metadata": {
        "id": "mPrFNb9ZYMGt",
        "colab": {
          "base_uri": "https://localhost:8080/"
        },
        "outputId": "8476d6e8-01ba-4bb1-d863-5994df405712"
      },
      "source": [
        "!wget https://www.ks.uiuc.edu/Research/namd/2.14/download/946183/NAMD_2.14_Linux-x86_64-multicore-CUDA.tar.gz"
      ],
      "execution_count": null,
      "outputs": [
        {
          "output_type": "stream",
          "name": "stdout",
          "text": [
            "--2021-10-29 07:08:35--  https://www.ks.uiuc.edu/Research/namd/2.14/download/946183/NAMD_2.14_Linux-x86_64-multicore-CUDA.tar.gz\n",
            "Resolving www.ks.uiuc.edu (www.ks.uiuc.edu)... 130.126.120.43\n",
            "Connecting to www.ks.uiuc.edu (www.ks.uiuc.edu)|130.126.120.43|:443... connected.\n",
            "HTTP request sent, awaiting response... 200 OK\n",
            "Length: 169669114 (162M) [application/x-gzip]\n",
            "Saving to: ‘NAMD_2.14_Linux-x86_64-multicore-CUDA.tar.gz’\n",
            "\n",
            "NAMD_2.14_Linux-x86 100%[===================>] 161.81M   104MB/s    in 1.6s    \n",
            "\n",
            "2021-10-29 07:08:40 (104 MB/s) - ‘NAMD_2.14_Linux-x86_64-multicore-CUDA.tar.gz’ saved [169669114/169669114]\n",
            "\n"
          ]
        }
      ]
    },
    {
      "cell_type": "code",
      "metadata": {
        "id": "z9GtU-o7a6cg"
      },
      "source": [
        "!tar -zxf /content/NAMD_2.14_Linux-x86_64-multicore-CUDA.tar.gz"
      ],
      "execution_count": null,
      "outputs": []
    },
    {
      "cell_type": "markdown",
      "metadata": {
        "id": "lRZpdCxqliEs"
      },
      "source": [
        "Berikut adalah cara menghubungkan google drive ke google colab, klik link yang diarahkan dan copy codenya dalam kotak yang disediakan"
      ]
    },
    {
      "cell_type": "code",
      "metadata": {
        "id": "t8NtwIddgECU",
        "colab": {
          "base_uri": "https://localhost:8080/"
        },
        "outputId": "1a0aca51-d6f3-42b1-9523-dccdbf28bff8"
      },
      "source": [
        "from google.colab import drive\n",
        "drive.mount('/content/drive')"
      ],
      "execution_count": null,
      "outputs": [
        {
          "output_type": "stream",
          "name": "stdout",
          "text": [
            "Mounted at /content/drive\n"
          ]
        }
      ]
    },
    {
      "cell_type": "code",
      "metadata": {
        "id": "m-QRN7MkbANU"
      },
      "source": [
        "!/content/NAMD_2.14_Linux-x86_64-multicore-CUDA/namd2 +auto-provision /content/drive/MyDrive/run/Minimization.conf  > /content/drive/MyDrive/run/Minimization.log"
      ],
      "execution_count": null,
      "outputs": []
    },
    {
      "cell_type": "code",
      "metadata": {
        "id": "or5L1rDah_am"
      },
      "source": [
        "!/content/NAMD_2.14_Linux-x86_64-multicore-CUDA/namd2 +auto-provision /content/drive/MyDrive/run/Annealing.conf  > /content/drive/MyDrive/run/Annealing.log"
      ],
      "execution_count": null,
      "outputs": []
    },
    {
      "cell_type": "markdown",
      "metadata": {
        "id": "Wlyo8nPvXr7W"
      },
      "source": [
        "Jika ingin Melakukan Simulasi Protein tanpa ligand Langsung Menggunakan script Ini"
      ]
    },
    {
      "cell_type": "code",
      "metadata": {
        "id": "TvN3W9EYY2O9"
      },
      "source": [
        "!/content/NAMD_2.14_Linux-x86_64-multicore-CUDA/namd2 +auto-provision /content/drive/MyDrive/run/Equilibration.conf  > /content/drive/MyDrive/run/Equilibration.log"
      ],
      "execution_count": null,
      "outputs": []
    },
    {
      "cell_type": "code",
      "metadata": {
        "id": "DWntrsPLZFh8"
      },
      "source": [
        "!/content/NAMD_2.14_Linux-x86_64-multicore-CUDA/namd2 +auto-provision /content/drive/MyDrive/run/MD.conf  > /content/drive/MyDrive/run/MD.log"
      ],
      "execution_count": null,
      "outputs": []
    },
    {
      "cell_type": "markdown",
      "metadata": {
        "id": "G9IAKC2IdITB"
      },
      "source": [
        "# **NAMD input menggunakan CHARMM-GUI**\n",
        "\n",
        "Apabila Preparasi Ligand menggunakan CHARMM-GUI dapat menggunakan script dibawah ini\n",
        "\n",
        "\n"
      ]
    },
    {
      "cell_type": "code",
      "metadata": {
        "id": "iJdRSz2pLWeW"
      },
      "source": [
        "!/content/NAMD_2.14_Linux-x86_64-multicore-CUDA/namd2 +auto-provision /content/drive/MyDrive/charmm-gui-3135087912/namd/step4_equilibration.inp  > /content/drive/MyDrive/charmm-gui-3135087912/namd/step4_equilibration.log"
      ],
      "execution_count": null,
      "outputs": []
    },
    {
      "cell_type": "code",
      "metadata": {
        "id": "dhhJRa1LdPKZ",
        "colab": {
          "base_uri": "https://localhost:8080/"
        },
        "outputId": "028bf6d4-0197-4d88-d049-7da2b4652756"
      },
      "source": [
        "!/content/NAMD_2.14_Linux-x86_64-multicore-CUDA/namd2 +auto-provision /content/drive/MyDrive/charmm-gui-3135087912/namd/step5_production.inp  > /content/drive/MyDrive/charmm-gui-3135087912/namd/step5_production.log"
      ],
      "execution_count": null,
      "outputs": [
        {
          "output_type": "stream",
          "name": "stdout",
          "text": [
            "FATAL ERROR: Unable to open extended system file.\n",
            "\n"
          ]
        }
      ]
    },
    {
      "cell_type": "markdown",
      "metadata": {
        "id": "f2f2KJPCanZr"
      },
      "source": [
        "**Interpretasi data menggunakan VMD**\n",
        "Interpretasi data ini seperti RMSD, RMSF, SASA dan lain-lain\n"
      ]
    },
    {
      "cell_type": "markdown",
      "metadata": {
        "id": "eV1N85py6FAp"
      },
      "source": [
        "# **Cara mendownload Folder di Google Colabs**\n",
        "\n",
        "Edit dibagian dir_to_zip = 'path_folder' yang akan didownload\n",
        "\n",
        "\n"
      ]
    },
    {
      "cell_type": "code",
      "metadata": {
        "colab": {
          "base_uri": "https://localhost:8080/",
          "height": 17
        },
        "id": "lsCCF4sA4jzi",
        "outputId": "f99baa02-6787-4578-c9a5-da70e347b9d9"
      },
      "source": [
        "#Cara Mendownload Folder pada google colab\n",
        "\n",
        "from google.colab import files\n",
        "import os\n",
        "\n",
        "dir_to_zip = '/content/NAMD_2.14_Linux-x86_64-multicore-CUDA' #@param {type: \"string\"}\n",
        "output_filename = 'file.zip' #@param {type: \"string\"}\n",
        "delete_dir_after_download = \"No\"  #@param ['Yes', 'No']\n",
        "\n",
        "os.system( \"zip -r {} {}\".format( output_filename , dir_to_zip ) )\n",
        "\n",
        "if delete_dir_after_download == \"Yes\":\n",
        "    os.system( \"rm -r {}\".format( dir_to_zip ) )\n",
        "\n",
        "files.download( output_filename )"
      ],
      "execution_count": null,
      "outputs": [
        {
          "output_type": "display_data",
          "data": {
            "application/javascript": [
              "\n",
              "    async function download(id, filename, size) {\n",
              "      if (!google.colab.kernel.accessAllowed) {\n",
              "        return;\n",
              "      }\n",
              "      const div = document.createElement('div');\n",
              "      const label = document.createElement('label');\n",
              "      label.textContent = `Downloading \"${filename}\": `;\n",
              "      div.appendChild(label);\n",
              "      const progress = document.createElement('progress');\n",
              "      progress.max = size;\n",
              "      div.appendChild(progress);\n",
              "      document.body.appendChild(div);\n",
              "\n",
              "      const buffers = [];\n",
              "      let downloaded = 0;\n",
              "\n",
              "      const channel = await google.colab.kernel.comms.open(id);\n",
              "      // Send a message to notify the kernel that we're ready.\n",
              "      channel.send({})\n",
              "\n",
              "      for await (const message of channel.messages) {\n",
              "        // Send a message to notify the kernel that we're ready.\n",
              "        channel.send({})\n",
              "        if (message.buffers) {\n",
              "          for (const buffer of message.buffers) {\n",
              "            buffers.push(buffer);\n",
              "            downloaded += buffer.byteLength;\n",
              "            progress.value = downloaded;\n",
              "          }\n",
              "        }\n",
              "      }\n",
              "      const blob = new Blob(buffers, {type: 'application/binary'});\n",
              "      const a = document.createElement('a');\n",
              "      a.href = window.URL.createObjectURL(blob);\n",
              "      a.download = filename;\n",
              "      div.appendChild(a);\n",
              "      a.click();\n",
              "      div.remove();\n",
              "    }\n",
              "  "
            ],
            "text/plain": [
              "<IPython.core.display.Javascript object>"
            ]
          },
          "metadata": {}
        },
        {
          "output_type": "display_data",
          "data": {
            "application/javascript": [
              "download(\"download_8112b3be-d040-45cc-b4eb-88398551a4ab\", \"file.zip\", 169729246)"
            ],
            "text/plain": [
              "<IPython.core.display.Javascript object>"
            ]
          },
          "metadata": {}
        }
      ]
    }
  ]
}
