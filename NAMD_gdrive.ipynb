{
  "nbformat": 4,
  "nbformat_minor": 0,
  "metadata": {
    "colab": {
      "provenance": [],
      "authorship_tag": "ABX9TyNibblBql1q2CVJI+yIkRff",
      "include_colab_link": true
    },
    "kernelspec": {
      "name": "python3",
      "display_name": "Python 3"
    },
    "language_info": {
      "name": "python"
    },
    "accelerator": "GPU",
    "gpuClass": "standard"
  },
  "cells": [
    {
      "cell_type": "markdown",
      "metadata": {
        "id": "view-in-github",
        "colab_type": "text"
      },
      "source": [
        "<a href=\"https://colab.research.google.com/github/purnawanpp/NAMD-on-Google-Colab/blob/main/NAMD_gdrive.ipynb\" target=\"_parent\"><img src=\"https://colab.research.google.com/assets/colab-badge.svg\" alt=\"Open In Colab\"/></a>"
      ]
    },
    {
      "cell_type": "code",
      "execution_count": 1,
      "metadata": {
        "colab": {
          "base_uri": "https://localhost:8080/"
        },
        "id": "8xCP7bus_hoo",
        "outputId": "a06c7da9-671f-4a88-d3da-330a0e078a2a"
      },
      "outputs": [
        {
          "output_type": "stream",
          "name": "stdout",
          "text": [
            "Mounted at /content/drive\n"
          ]
        }
      ],
      "source": [
        "from google.colab import drive\n",
        "drive.mount('/content/drive')"
      ]
    },
    {
      "cell_type": "code",
      "source": [
        "!nvidia-smi"
      ],
      "metadata": {
        "colab": {
          "base_uri": "https://localhost:8080/"
        },
        "id": "-TQ2d6_lDIQz",
        "outputId": "c13b5648-384d-4542-bc44-d774737f5383"
      },
      "execution_count": 2,
      "outputs": [
        {
          "output_type": "stream",
          "name": "stdout",
          "text": [
            "Mon Jan 23 14:46:10 2023       \n",
            "+-----------------------------------------------------------------------------+\n",
            "| NVIDIA-SMI 460.32.03    Driver Version: 460.32.03    CUDA Version: 11.2     |\n",
            "|-------------------------------+----------------------+----------------------+\n",
            "| GPU  Name        Persistence-M| Bus-Id        Disp.A | Volatile Uncorr. ECC |\n",
            "| Fan  Temp  Perf  Pwr:Usage/Cap|         Memory-Usage | GPU-Util  Compute M. |\n",
            "|                               |                      |               MIG M. |\n",
            "|===============================+======================+======================|\n",
            "|   0  Tesla T4            Off  | 00000000:00:04.0 Off |                    0 |\n",
            "| N/A   45C    P0    26W /  70W |      0MiB / 15109MiB |      0%      Default |\n",
            "|                               |                      |                  N/A |\n",
            "+-------------------------------+----------------------+----------------------+\n",
            "                                                                               \n",
            "+-----------------------------------------------------------------------------+\n",
            "| Processes:                                                                  |\n",
            "|  GPU   GI   CI        PID   Type   Process name                  GPU Memory |\n",
            "|        ID   ID                                                   Usage      |\n",
            "|=============================================================================|\n",
            "|  No running processes found                                                 |\n",
            "+-----------------------------------------------------------------------------+\n"
          ]
        }
      ]
    },
    {
      "cell_type": "code",
      "source": [
        "cd /content/drive/MyDrive"
      ],
      "metadata": {
        "colab": {
          "base_uri": "https://localhost:8080/"
        },
        "id": "lHiCgTza_12i",
        "outputId": "ac51e9c5-3909-42a7-acf3-7f181a062db0"
      },
      "execution_count": null,
      "outputs": [
        {
          "output_type": "stream",
          "name": "stdout",
          "text": [
            "/content/drive/MyDrive\n"
          ]
        }
      ]
    },
    {
      "cell_type": "code",
      "source": [
        "!tar -zxf /content/drive/MyDrive/NAMD_3.0alpha13_Linux-x86_64-multicore-CUDA-SingleNode.tar.gz"
      ],
      "metadata": {
        "id": "CTsFX4t6AAbS"
      },
      "execution_count": null,
      "outputs": []
    },
    {
      "cell_type": "code",
      "source": [
        "!mv /content/drive/MyDrive/NAMD_3.0alpha13_Linux-x86_64-multicore-CUDA namd3"
      ],
      "metadata": {
        "id": "x3KxyGVqAKg_"
      },
      "execution_count": null,
      "outputs": []
    },
    {
      "cell_type": "code",
      "source": [
        "!chmod 755 -R /content/drive/MyDrive/namd3/namd3 "
      ],
      "metadata": {
        "id": "lz138offGExh"
      },
      "execution_count": 6,
      "outputs": []
    },
    {
      "cell_type": "code",
      "source": [
        "!/content/drive/MyDrive/namd3/namd3 "
      ],
      "metadata": {
        "colab": {
          "base_uri": "https://localhost:8080/"
        },
        "id": "x4OTebR0AewD",
        "outputId": "dea3bb63-8386-4e63-d1f3-f600d42c43d6"
      },
      "execution_count": 7,
      "outputs": [
        {
          "output_type": "stream",
          "name": "stdout",
          "text": [
            "Charm++> No provisioning arguments specified. Running with a single PE.\n",
            "         Use +auto-provision to fully subscribe resources or +p1 to silence this message.\n",
            "Charm++: standalone mode (not using charmrun)\n",
            "Charm++> Running in Multicore mode: 1 threads (PEs)\n",
            "Charm++> Using recursive bisection (scheme 3) for topology aware partitions\n",
            "Converse/Charm++ Commit ID: \n",
            "CharmLB> Load balancer assumes all CPUs are same.\n",
            "Charm++> Running on 1 hosts (1 sockets x 1 cores x 2 PUs = 2-way SMP)\n",
            "Charm++> cpu topology info is gathered in 0.000 seconds.\n",
            "Info: Built with CUDA version 11000\n",
            "Did not find +devices i,j,k,... argument, using all\n",
            "Pe 0 physical rank 0 binding to CUDA device 0 on 066790302a36: 'Tesla T4'  Mem: 15109MB  Rev: 7.5  PCI: 0:0:4\n",
            "Info: NAMD 3.0alpha13 for Linux-x86_64-multicore-CUDA\n",
            "Info: \n",
            "Info: Please visit http://www.ks.uiuc.edu/Research/namd/\n",
            "Info: for updates, documentation, and support information.\n",
            "Info: \n",
            "Info: Please cite Phillips et al., J. Chem. Phys. 153:044130 (2020) doi:10.1063/5.0014475\n",
            "Info: in all publications reporting results obtained with NAMD.\n",
            "Info: \n",
            "Info: Based on Charm++/Converse 70000 for multicore-linux-x86_64-gcc\n",
            "Info: Built Sun Jul 24 04:02:17 CDT 2022 by dhardy on athine.ks.uiuc.edu\n",
            "Info: 1 NAMD  3.0alpha13  Linux-x86_64-multicore-CUDA  1    066790302a36  root\n",
            "Info: Running on 1 processors, 1 nodes, 1 physical nodes.\n",
            "Info: CPU topology information available.\n",
            "Info: Charm++/Converse parallel runtime startup completed at 13.0116 s\n",
            "Info: 0 MB of memory in use based on /proc/self/stat\n",
            "Info: Using bitfields in atom data structures.\n",
            "Info:   sizeof( CompAtom )    = 32\n",
            "Info:   sizeof( CompAtomExt ) = 8\n",
            "CkLoopLib is used in SMP with simple dynamic scheduling (converse-level notification)\n",
            "FATAL ERROR: No simulation config file specified on command line.\n",
            "FATAL ERROR: No simulation config file specified on command line.\n",
            "[Partition 0][Node 0] End of program\n"
          ]
        }
      ]
    },
    {
      "cell_type": "code",
      "source": [
        "!/content/drive/MyDrive/namd3/namd3 +p2 /content/drive/MyDrive/namd_tutorial/ubq_ws_eq.conf > /content/drive/MyDrive/namd_tutorial/ubq_ws_eq.log"
      ],
      "metadata": {
        "id": "NxEZepd6DzPo"
      },
      "execution_count": 8,
      "outputs": []
    },
    {
      "cell_type": "code",
      "source": [
        "!tail -f /content/drive/MyDrive/namd_tutorial/ubq_ws_eq.log"
      ],
      "metadata": {
        "colab": {
          "base_uri": "https://localhost:8080/"
        },
        "id": "TJX6ZaJQC6QU",
        "outputId": "30756ce7-0756-4ba6-a971-2009448e19fd"
      },
      "execution_count": null,
      "outputs": [
        {
          "output_type": "stream",
          "name": "stdout",
          "text": [
            "ENERGY:    2600       232.8511       692.9071       309.1077        46.9017         -21869.0245      1541.5755         4.6950         0.0000      4369.4987         -14671.4879       314.8835    -19040.9866    -14651.2922       314.0400\n",
            "\n",
            "WRITING EXTENDED SYSTEM TO OUTPUT FILE AT STEP 2600\n",
            "WRITING COORDINATES TO OUTPUT FILE AT STEP 2600\n",
            "CLOSING COORDINATE DCD FILE ubq_ws_eq.dcd\n",
            "WRITING VELOCITIES TO OUTPUT FILE AT STEP 2600\n",
            "====================================================\n",
            "\n",
            "WallClock: 165.882889  CPUTime: 160.070496  Memory: 0.000000 MB\n",
            "[Partition 0][Node 0] End of program\n",
            "^C\n"
          ]
        }
      ]
    }
  ]
}