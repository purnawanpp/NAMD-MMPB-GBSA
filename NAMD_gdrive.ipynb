{
  "nbformat": 4,
  "nbformat_minor": 0,
  "metadata": {
    "colab": {
      "provenance": [],
      "authorship_tag": "ABX9TyMrHpFetxvfVPi0jAT//QAK",
      "include_colab_link": true
    },
    "kernelspec": {
      "name": "python3",
      "display_name": "Python 3"
    },
    "language_info": {
      "name": "python"
    },
    "accelerator": "GPU",
    "gpuClass": "standard"
  },
  "cells": [
    {
      "cell_type": "markdown",
      "metadata": {
        "id": "view-in-github",
        "colab_type": "text"
      },
      "source": [
        "<a href=\"https://colab.research.google.com/github/purnawanpp/NAMD-on-Google-Colab/blob/main/NAMD_gdrive.ipynb\" target=\"_parent\"><img src=\"https://colab.research.google.com/assets/colab-badge.svg\" alt=\"Open In Colab\"/></a>"
      ]
    },
    {
      "cell_type": "code",
      "execution_count": 1,
      "metadata": {
        "colab": {
          "base_uri": "https://localhost:8080/"
        },
        "id": "8xCP7bus_hoo",
        "outputId": "505dda94-c8cf-41d3-fd32-17212d8e8c8f"
      },
      "outputs": [
        {
          "output_type": "stream",
          "name": "stdout",
          "text": [
            "Mounted at /content/drive\n"
          ]
        }
      ],
      "source": [
        "from google.colab import drive\n",
        "drive.mount('/content/drive')"
      ]
    },
    {
      "cell_type": "code",
      "source": [
        "cd /content/drive/MyDrive"
      ],
      "metadata": {
        "colab": {
          "base_uri": "https://localhost:8080/"
        },
        "id": "lHiCgTza_12i",
        "outputId": "ac51e9c5-3909-42a7-acf3-7f181a062db0"
      },
      "execution_count": 2,
      "outputs": [
        {
          "output_type": "stream",
          "name": "stdout",
          "text": [
            "/content/drive/MyDrive\n"
          ]
        }
      ]
    },
    {
      "cell_type": "code",
      "source": [
        "!tar -zxf /content/drive/MyDrive/NAMD_3.0alpha13_Linux-x86_64-multicore-CUDA-SingleNode.tar.gz"
      ],
      "metadata": {
        "id": "CTsFX4t6AAbS"
      },
      "execution_count": 3,
      "outputs": []
    },
    {
      "cell_type": "code",
      "source": [
        "!mv /content/drive/MyDrive/NAMD_3.0alpha13_Linux-x86_64-multicore-CUDA namd3"
      ],
      "metadata": {
        "id": "x3KxyGVqAKg_"
      },
      "execution_count": 5,
      "outputs": []
    },
    {
      "cell_type": "code",
      "source": [
        "!/content/drive/MyDrive/namd3/namd3 "
      ],
      "metadata": {
        "colab": {
          "base_uri": "https://localhost:8080/"
        },
        "id": "x4OTebR0AewD",
        "outputId": "2faf3e32-7cf7-45ad-a5aa-1ccbf50a19ae"
      },
      "execution_count": 6,
      "outputs": [
        {
          "output_type": "stream",
          "name": "stdout",
          "text": [
            "Charm++> No provisioning arguments specified. Running with a single PE.\n",
            "         Use +auto-provision to fully subscribe resources or +p1 to silence this message.\n",
            "Charm++: standalone mode (not using charmrun)\n",
            "Charm++> Running in Multicore mode: 1 threads (PEs)\n",
            "Charm++> Using recursive bisection (scheme 3) for topology aware partitions\n",
            "Converse/Charm++ Commit ID: \n",
            "CharmLB> Load balancer assumes all CPUs are same.\n",
            "Charm++> Running on 1 hosts (1 sockets x 1 cores x 2 PUs = 2-way SMP)\n",
            "Charm++> cpu topology info is gathered in 0.000 seconds.\n",
            "Info: Built with CUDA version 11000\n",
            "Did not find +devices i,j,k,... argument, using all\n",
            "Pe 0 physical rank 0 binding to CUDA device 0 on 58d2f52bef5a: 'Tesla T4'  Mem: 15109MB  Rev: 7.5  PCI: 0:0:4\n",
            "Info: NAMD 3.0alpha13 for Linux-x86_64-multicore-CUDA\n",
            "Info: \n",
            "Info: Please visit http://www.ks.uiuc.edu/Research/namd/\n",
            "Info: for updates, documentation, and support information.\n",
            "Info: \n",
            "Info: Please cite Phillips et al., J. Chem. Phys. 153:044130 (2020) doi:10.1063/5.0014475\n",
            "Info: in all publications reporting results obtained with NAMD.\n",
            "Info: \n",
            "Info: Based on Charm++/Converse 70000 for multicore-linux-x86_64-gcc\n",
            "Info: Built Sun Jul 24 04:02:17 CDT 2022 by dhardy on athine.ks.uiuc.edu\n",
            "Info: 1 NAMD  3.0alpha13  Linux-x86_64-multicore-CUDA  1    58d2f52bef5a  root\n",
            "Info: Running on 1 processors, 1 nodes, 1 physical nodes.\n",
            "Info: CPU topology information available.\n",
            "Info: Charm++/Converse parallel runtime startup completed at 1.31441 s\n",
            "Info: 0 MB of memory in use based on /proc/self/stat\n",
            "Info: Using bitfields in atom data structures.\n",
            "Info:   sizeof( CompAtom )    = 32\n",
            "Info:   sizeof( CompAtomExt ) = 8\n",
            "CkLoopLib is used in SMP with simple dynamic scheduling (converse-level notification)\n",
            "FATAL ERROR: No simulation config file specified on command line.\n",
            "FATAL ERROR: No simulation config file specified on command line.\n",
            "[Partition 0][Node 0] End of program\n"
          ]
        }
      ]
    }
  ]
}