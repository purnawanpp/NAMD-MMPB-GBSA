{
  "nbformat": 4,
  "nbformat_minor": 0,
  "metadata": {
    "colab": {
      "provenance": [],
      "authorship_tag": "ABX9TyMzC23e1MogFMK2mm6uLzLS",
      "include_colab_link": true
    },
    "kernelspec": {
      "name": "python3",
      "display_name": "Python 3"
    },
    "language_info": {
      "name": "python"
    },
    "accelerator": "GPU",
    "gpuClass": "standard"
  },
  "cells": [
    {
      "cell_type": "markdown",
      "metadata": {
        "id": "view-in-github",
        "colab_type": "text"
      },
      "source": [
        "<a href=\"https://colab.research.google.com/github/purnawanpp/NAMD-on-Google-Colab/blob/main/NAMD_Colab.ipynb\" target=\"_parent\"><img src=\"https://colab.research.google.com/assets/colab-badge.svg\" alt=\"Open In Colab\"/></a>"
      ]
    },
    {
      "cell_type": "code",
      "execution_count": 2,
      "metadata": {
        "colab": {
          "base_uri": "https://localhost:8080/"
        },
        "id": "dh_yw1Ws6Yvu",
        "outputId": "a6bfe354-a889-4470-8ba9-2d2fb1a8aa91"
      },
      "outputs": [
        {
          "output_type": "stream",
          "name": "stdout",
          "text": [
            "Mounted at /content/drive\n"
          ]
        }
      ],
      "source": [
        "from google.colab import drive\n",
        "drive.mount('/content/drive')"
      ]
    },
    {
      "cell_type": "code",
      "source": [
        "!wget https://www.ks.uiuc.edu/Research/namd/alpha/3.0alpha/download/NAMD_3.0alpha13_Linux-x86_64-multicore-CUDA-SingleNode.tar.gz "
      ],
      "metadata": {
        "colab": {
          "base_uri": "https://localhost:8080/"
        },
        "id": "3hCadyQa6gA6",
        "outputId": "9d9ee430-6f80-45b5-84d6-4efe79099e0e"
      },
      "execution_count": 3,
      "outputs": [
        {
          "output_type": "stream",
          "name": "stdout",
          "text": [
            "--2023-01-15 10:13:30--  https://www.ks.uiuc.edu/Research/namd/alpha/3.0alpha/download/NAMD_3.0alpha13_Linux-x86_64-multicore-CUDA-SingleNode.tar.gz\n",
            "Resolving www.ks.uiuc.edu (www.ks.uiuc.edu)... 130.126.120.43\n",
            "Connecting to www.ks.uiuc.edu (www.ks.uiuc.edu)|130.126.120.43|:443... connected.\n",
            "HTTP request sent, awaiting response... 200 OK\n",
            "Length: 240222547 (229M) [application/x-gzip]\n",
            "Saving to: ‘NAMD_3.0alpha13_Linux-x86_64-multicore-CUDA-SingleNode.tar.gz’\n",
            "\n",
            "NAMD_3.0alpha13_Lin 100%[===================>] 229.09M   105MB/s    in 2.2s    \n",
            "\n",
            "2023-01-15 10:13:35 (105 MB/s) - ‘NAMD_3.0alpha13_Linux-x86_64-multicore-CUDA-SingleNode.tar.gz’ saved [240222547/240222547]\n",
            "\n",
            "--2023-01-15 10:13:35--  http://cp/\n",
            "Resolving cp (cp)... failed: Name or service not known.\n",
            "wget: unable to resolve host address ‘cp’\n",
            "/content/drive/MyDrive/: Scheme missing.\n",
            "FINISHED --2023-01-15 10:13:35--\n",
            "Total wall clock time: 5.4s\n",
            "Downloaded: 1 files, 229M in 2.2s (105 MB/s)\n"
          ]
        }
      ]
    },
    {
      "cell_type": "code",
      "source": [
        "!tar -zxf /content/drive/MyDrive/NAMD_3.0alpha13_Linux-x86_64-multicore-CUDA-SingleNode.tar.gz >"
      ],
      "metadata": {
        "id": "-xNOchaI7vY2"
      },
      "execution_count": 13,
      "outputs": []
    },
    {
      "cell_type": "code",
      "source": [
        "!mv /content/NAMD_3.0alpha13_Linux-x86_64-multicore-CUDA namd3"
      ],
      "metadata": {
        "id": "6dghZWrF81Or"
      },
      "execution_count": 15,
      "outputs": []
    },
    {
      "cell_type": "code",
      "source": [
        "!/content/namd3/namd3"
      ],
      "metadata": {
        "colab": {
          "base_uri": "https://localhost:8080/"
        },
        "id": "rlc_e07Y9AE8",
        "outputId": "d1b4f9ac-cb31-48ca-a9d6-3bc6aa94143d"
      },
      "execution_count": 17,
      "outputs": [
        {
          "output_type": "stream",
          "name": "stdout",
          "text": [
            "Charm++> No provisioning arguments specified. Running with a single PE.\n",
            "         Use +auto-provision to fully subscribe resources or +p1 to silence this message.\n",
            "Charm++: standalone mode (not using charmrun)\n",
            "Charm++> Running in Multicore mode: 1 threads (PEs)\n",
            "Charm++> Using recursive bisection (scheme 3) for topology aware partitions\n",
            "Converse/Charm++ Commit ID: \n",
            "CUDA initialization error on 81b6673012c9: no CUDA-capable device is detected\n",
            "CharmLB> Load balancer assumes all CPUs are same.\n",
            "Charm++> Running on 1 hosts (1 sockets x 1 cores x 2 PUs = 2-way SMP)\n",
            "Charm++> cpu topology info is gathered in 0.000 seconds.\n",
            "Info: Built with CUDA version 11000\n",
            "FATAL ERROR: CUDA error cudaGetDeviceCount(&deviceCount) in file src/DeviceCUDA.C, function initialize, line 144\n",
            " on Pe 0 (81b6673012c9): no CUDA-capable device is detected\n",
            "FATAL ERROR: CUDA error cudaGetDeviceCount(&deviceCount) in file src/DeviceCUDA.C, function initialize, line 144\n",
            " on Pe 0 (81b6673012c9): no CUDA-capable device is detected\n",
            "[Partition 0][Node 0] End of program\n"
          ]
        }
      ]
    }
  ]
}