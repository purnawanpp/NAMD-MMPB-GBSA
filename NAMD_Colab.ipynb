{
  "nbformat": 4,
  "nbformat_minor": 0,
  "metadata": {
    "colab": {
      "provenance": [],
      "authorship_tag": "ABX9TyOfpx2ypXaUToCOmL4oLbU8",
      "include_colab_link": true
    },
    "kernelspec": {
      "name": "python3",
      "display_name": "Python 3"
    },
    "language_info": {
      "name": "python"
    },
    "accelerator": "GPU",
    "gpuClass": "standard"
  },
  "cells": [
    {
      "cell_type": "markdown",
      "metadata": {
        "id": "view-in-github",
        "colab_type": "text"
      },
      "source": [
        "<a href=\"https://colab.research.google.com/github/purnawanpp/NAMD-on-Google-Colab/blob/main/NAMD_Colab.ipynb\" target=\"_parent\"><img src=\"https://colab.research.google.com/assets/colab-badge.svg\" alt=\"Open In Colab\"/></a>"
      ]
    },
    {
      "cell_type": "code",
      "execution_count": 2,
      "metadata": {
        "colab": {
          "base_uri": "https://localhost:8080/"
        },
        "id": "dh_yw1Ws6Yvu",
        "outputId": "a6bfe354-a889-4470-8ba9-2d2fb1a8aa91"
      },
      "outputs": [
        {
          "output_type": "stream",
          "name": "stdout",
          "text": [
            "Mounted at /content/drive\n"
          ]
        }
      ],
      "source": [
        "from google.colab import drive\n",
        "drive.mount('/content/drive')"
      ]
    },
    {
      "cell_type": "code",
      "source": [
        "!wget https://www.ks.uiuc.edu/Research/namd/alpha/3.0alpha/download/NAMD_3.0alpha13_Linux-x86_64-multicore-CUDA-SingleNode.tar.gz "
      ],
      "metadata": {
        "colab": {
          "base_uri": "https://localhost:8080/"
        },
        "id": "3hCadyQa6gA6",
        "outputId": "357aea4c-09b1-4ccd-e502-be209d4985db"
      },
      "execution_count": 2,
      "outputs": [
        {
          "output_type": "stream",
          "name": "stdout",
          "text": [
            "--2023-01-15 10:27:00--  https://www.ks.uiuc.edu/Research/namd/alpha/3.0alpha/download/NAMD_3.0alpha13_Linux-x86_64-multicore-CUDA-SingleNode.tar.gz\n",
            "Resolving www.ks.uiuc.edu (www.ks.uiuc.edu)... 130.126.120.43\n",
            "Connecting to www.ks.uiuc.edu (www.ks.uiuc.edu)|130.126.120.43|:443... connected.\n",
            "HTTP request sent, awaiting response... 200 OK\n",
            "Length: 240222547 (229M) [application/x-gzip]\n",
            "Saving to: ‘NAMD_3.0alpha13_Linux-x86_64-multicore-CUDA-SingleNode.tar.gz’\n",
            "\n",
            "NAMD_3.0alpha13_Lin 100%[===================>] 229.09M   102MB/s    in 2.3s    \n",
            "\n",
            "2023-01-15 10:27:05 (102 MB/s) - ‘NAMD_3.0alpha13_Linux-x86_64-multicore-CUDA-SingleNode.tar.gz’ saved [240222547/240222547]\n",
            "\n"
          ]
        }
      ]
    },
    {
      "cell_type": "code",
      "source": [
        "!tar -zxf /content/NAMD_3.0alpha13_Linux-x86_64-multicore-CUDA-SingleNode.tar.gz"
      ],
      "metadata": {
        "id": "-xNOchaI7vY2"
      },
      "execution_count": 5,
      "outputs": []
    },
    {
      "cell_type": "code",
      "source": [
        "!mv /content/NAMD_3.0alpha13_Linux-x86_64-multicore-CUDA namd3"
      ],
      "metadata": {
        "id": "6dghZWrF81Or"
      },
      "execution_count": 6,
      "outputs": []
    },
    {
      "cell_type": "code",
      "source": [
        "!/content/namd3/namd3"
      ],
      "metadata": {
        "colab": {
          "base_uri": "https://localhost:8080/"
        },
        "id": "rlc_e07Y9AE8",
        "outputId": "74888178-d5ab-450d-c3ef-37da6d2f16e9"
      },
      "execution_count": 7,
      "outputs": [
        {
          "output_type": "stream",
          "name": "stdout",
          "text": [
            "Charm++> No provisioning arguments specified. Running with a single PE.\n",
            "         Use +auto-provision to fully subscribe resources or +p1 to silence this message.\n",
            "Charm++: standalone mode (not using charmrun)\n",
            "Charm++> Running in Multicore mode: 1 threads (PEs)\n",
            "Charm++> Using recursive bisection (scheme 3) for topology aware partitions\n",
            "Converse/Charm++ Commit ID: \n",
            "CharmLB> Load balancer assumes all CPUs are same.\n",
            "Charm++> Running on 1 hosts (1 sockets x 1 cores x 2 PUs = 2-way SMP)\n",
            "Charm++> cpu topology info is gathered in 0.000 seconds.\n",
            "Info: Built with CUDA version 11000\n",
            "Did not find +devices i,j,k,... argument, using all\n",
            "Pe 0 physical rank 0 binding to CUDA device 0 on 0452b3bb1059: 'Tesla T4'  Mem: 15109MB  Rev: 7.5  PCI: 0:0:4\n",
            "Info: NAMD 3.0alpha13 for Linux-x86_64-multicore-CUDA\n",
            "Info: \n",
            "Info: Please visit http://www.ks.uiuc.edu/Research/namd/\n",
            "Info: for updates, documentation, and support information.\n",
            "Info: \n",
            "Info: Please cite Phillips et al., J. Chem. Phys. 153:044130 (2020) doi:10.1063/5.0014475\n",
            "Info: in all publications reporting results obtained with NAMD.\n",
            "Info: \n",
            "Info: Based on Charm++/Converse 70000 for multicore-linux-x86_64-gcc\n",
            "Info: Built Sun Jul 24 04:02:17 CDT 2022 by dhardy on athine.ks.uiuc.edu\n",
            "Info: 1 NAMD  3.0alpha13  Linux-x86_64-multicore-CUDA  1    0452b3bb1059  root\n",
            "Info: Running on 1 processors, 1 nodes, 1 physical nodes.\n",
            "Info: CPU topology information available.\n",
            "Info: Charm++/Converse parallel runtime startup completed at 0.70181 s\n",
            "Info: 0 MB of memory in use based on /proc/self/stat\n",
            "Info: Using bitfields in atom data structures.\n",
            "Info:   sizeof( CompAtom )    = 32\n",
            "Info:   sizeof( CompAtomExt ) = 8\n",
            "CkLoopLib is used in SMP with simple dynamic scheduling (converse-level notification)\n",
            "FATAL ERROR: No simulation config file specified on command line.\n",
            "FATAL ERROR: No simulation config file specified on command line.\n",
            "[Partition 0][Node 0] End of program\n"
          ]
        }
      ]
    },
    {
      "cell_type": "code",
      "source": [
        "!/content/namd3/namd3 /content/ubq_ws_eq.conf > ubq_ws_eq.log &"
      ],
      "metadata": {
        "colab": {
          "base_uri": "https://localhost:8080/"
        },
        "id": "SMgwxsga9bWH",
        "outputId": "cfdfe7f8-9dc3-4d68-83c1-15f44b78ff7b"
      },
      "execution_count": 12,
      "outputs": [
        {
          "output_type": "stream",
          "name": "stdout",
          "text": [
            "FATAL ERROR: UNKNOWN PARAMETER IN CHARMM PARAMETER FILE /content/top_all27_prot_lipid.inp\n",
            "LINE=*31  1*\n"
          ]
        }
      ]
    },
    {
      "cell_type": "code",
      "source": [
        "!wget https://www.ks.uiuc.edu/Research/namd/2.14/download/946183/NAMD_2.14_Linux-x86_64-multicore-CUDA.tar.gz"
      ],
      "metadata": {
        "colab": {
          "base_uri": "https://localhost:8080/"
        },
        "id": "HjfMhWae_7gW",
        "outputId": "8be9b815-342d-476e-f3cf-78147f0ab758"
      },
      "execution_count": 14,
      "outputs": [
        {
          "output_type": "stream",
          "name": "stdout",
          "text": [
            "--2023-01-15 10:35:52--  https://www.ks.uiuc.edu/Research/namd/2.14/download/946183/NAMD_2.14_Linux-x86_64-multicore-CUDA.tar.gz\n",
            "Resolving www.ks.uiuc.edu (www.ks.uiuc.edu)... 130.126.120.43\n",
            "Connecting to www.ks.uiuc.edu (www.ks.uiuc.edu)|130.126.120.43|:443... connected.\n",
            "HTTP request sent, awaiting response... 200 OK\n",
            "Length: 169669114 (162M) [application/x-gzip]\n",
            "Saving to: ‘NAMD_2.14_Linux-x86_64-multicore-CUDA.tar.gz’\n",
            "\n",
            "NAMD_2.14_Linux-x86 100%[===================>] 161.81M   102MB/s    in 1.6s    \n",
            "\n",
            "2023-01-15 10:35:54 (102 MB/s) - ‘NAMD_2.14_Linux-x86_64-multicore-CUDA.tar.gz’ saved [169669114/169669114]\n",
            "\n"
          ]
        }
      ]
    },
    {
      "cell_type": "code",
      "source": [
        "!tar -zxf /content/NAMD_2.14_Linux-x86_64-multicore-CUDA.tar.gz"
      ],
      "metadata": {
        "id": "dYxjl0S6AASj"
      },
      "execution_count": 15,
      "outputs": []
    },
    {
      "cell_type": "code",
      "source": [
        "!/content/NAMD_2.14_Linux-x86_64-multicore-CUDA/namd2 +p2 /content/ubq_ws_eq.conf"
      ],
      "metadata": {
        "colab": {
          "base_uri": "https://localhost:8080/"
        },
        "id": "51carUpZADvA",
        "outputId": "a59c357d-2a40-48e0-d4cb-c6a77cd93223"
      },
      "execution_count": 19,
      "outputs": [
        {
          "output_type": "stream",
          "name": "stdout",
          "text": [
            "Charm++: standalone mode (not using charmrun)\n",
            "Charm++> Running in Multicore mode: 2 threads (PEs)\n",
            "Charm++> Using recursive bisection (scheme 3) for topology aware partitions\n",
            "Converse/Charm++ Commit ID: v6.10.2-0-g7bf00fa-namd-charm-6.10.2-build-2020-Aug-05-556\n",
            "Warning> Randomization of virtual memory (ASLR) is turned on in the kernel, thread migration may not work! Run 'echo 0 > /proc/sys/kernel/randomize_va_space' as root to disable it, or try running with '+isomalloc_sync'.\n",
            "CharmLB> Load balancer assumes all CPUs are same.\n",
            "Charm++> Running on 1 hosts (1 sockets x 1 cores x 2 PUs = 2-way SMP)\n",
            "Charm++> cpu topology info is gathered in 0.000 seconds.\n",
            "Info: Built with CUDA version 10010\n",
            "Did not find +devices i,j,k,... argument, using all\n",
            "Pe 0 physical rank 0 will use CUDA device of pe 1\n",
            "Pe 1 physical rank 1 binding to CUDA device 0 on 0452b3bb1059: 'Tesla T4'  Mem: 15109MB  Rev: 7.5  PCI: 0:0:4\n",
            "Info: NAMD 2.14 for Linux-x86_64-multicore-CUDA\n",
            "Info: \n",
            "Info: Please visit http://www.ks.uiuc.edu/Research/namd/\n",
            "Info: for updates, documentation, and support information.\n",
            "Info: \n",
            "Info: Please cite Phillips et al., J. Chem. Phys. 153:044130 (2020) doi:10.1063/5.0014475\n",
            "Info: in all publications reporting results obtained with NAMD.\n",
            "Info: \n",
            "Info: Based on Charm++/Converse 61002 for multicore-linux-x86_64-iccstatic\n",
            "Info: Built Mon Aug 24 10:10:58 CDT 2020 by jim on belfast.ks.uiuc.edu\n",
            "Info: 1 NAMD  2.14  Linux-x86_64-multicore-CUDA  2    0452b3bb1059  root\n",
            "Info: Running on 2 processors, 1 nodes, 1 physical nodes.\n",
            "Info: CPU topology information available.\n",
            "Info: Charm++/Converse parallel runtime startup completed at 0.610141 s\n",
            "CkLoopLib is used in SMP with simple dynamic scheduling (converse-level notification)\n",
            "Info: 446.148 MB of memory in use based on /proc/self/stat\n",
            "Info: Configuration file is /content/ubq_ws_eq.conf\n",
            "Info: Changed directory to /content\n",
            "TCL: Suspending until startup complete.\n",
            "Info: SIMULATION PARAMETERS:\n",
            "Info: TIMESTEP               2\n",
            "Info: NUMBER OF STEPS        0\n",
            "Info: STEPS PER CYCLE        10\n",
            "Info: LOAD BALANCER  Centralized\n",
            "Info: LOAD BALANCING STRATEGY  New Load Balancers -- DEFAULT\n",
            "Info: LDB PERIOD             2000 steps\n",
            "Info: FIRST LDB TIMESTEP     50\n",
            "Info: LAST LDB TIMESTEP     -1\n",
            "Info: LDB BACKGROUND SCALING 1\n",
            "Info: HOM BACKGROUND SCALING 1\n",
            "Info: MIN ATOMS PER PATCH    40\n",
            "Info: INITIAL TEMPERATURE    310\n",
            "Info: CENTER OF MASS MOVING INITIALLY? NO\n",
            "Info: DIELECTRIC             1\n",
            "Info: EXCLUDE                SCALED ONE-FOUR\n",
            "Info: 1-4 ELECTROSTATICS SCALED BY 1\n",
            "Info: MODIFIED 1-4 VDW PARAMETERS WILL BE USED\n",
            "Info: DCD FILENAME           ubq_ws_eq.dcd\n",
            "Info: DCD FREQUENCY          250\n",
            "Info: DCD FIRST STEP         250\n",
            "Info: NO EXTENDED SYSTEM TRAJECTORY OUTPUT\n",
            "Info: NO VELOCITY DCD OUTPUT\n",
            "Info: NO FORCE DCD OUTPUT\n",
            "Info: OUTPUT FILENAME        ubq_ws_eq\n",
            "Info: BINARY OUTPUT FILES WILL BE USED\n",
            "Info: RESTART FILENAME       ubq_ws_eq.restart\n",
            "Info: RESTART FREQUENCY      500\n",
            "Info: BINARY RESTART FILES WILL BE USED\n",
            "Info: SWITCHING ACTIVE\n",
            "Info: SWITCHING ON           10\n",
            "Info: SWITCHING OFF          12\n",
            "Info: PAIRLIST DISTANCE      14\n",
            "Info: PAIRLIST SHRINK RATE   0.01\n",
            "Info: PAIRLIST GROW RATE     0.01\n",
            "Info: PAIRLIST TRIGGER       0.3\n",
            "Info: PAIRLISTS PER CYCLE    2\n",
            "Info: PAIRLISTS ENABLED\n",
            "Info: MARGIN                 0\n",
            "Info: HYDROGEN GROUP CUTOFF  2.5\n",
            "Info: PATCH DIMENSION        16.5\n",
            "Info: ENERGY OUTPUT STEPS    100\n",
            "Info: CROSSTERM ENERGY INCLUDED IN DIHEDRAL\n",
            "Info: TIMING OUTPUT STEPS    1000\n",
            "Info: SPHERICAL BOUNDARY CONDITIONS ACTIVE\n",
            "Info: RADIUS #1              26\n",
            "Info: FORCE CONSTANT #1      10\n",
            "Info: EXPONENT #1            2\n",
            "Info: SPHERE BOUNDARY CENTER(30.3082, 28.805, 15.354)\n",
            "Info: LANGEVIN DYNAMICS ACTIVE\n",
            "Info: LANGEVIN TEMPERATURE   310\n",
            "Info: LANGEVIN USING BBK INTEGRATOR\n",
            "Info: LANGEVIN DAMPING COEFFICIENT IS 1 INVERSE PS\n",
            "Info: LANGEVIN DYNAMICS NOT APPLIED TO HYDROGENS\n",
            "Info: MULTILEVEL SUMMATION METHOD (MSM) FOR ELECTROSTATICS ACTIVE\n",
            "Info: MSM WITH C1 CUBIC INTERPOLATION AND C2 TAYLOR SPLITTING\n",
            "Info: FULL ELECTROSTATIC EVALUATION FREQUENCY      2\n",
            "Info: USING VERLET I (r-RESPA) MTS SCHEME.\n",
            "Info: C1 SPLITTING OF LONG RANGE ELECTROSTATICS\n",
            "Info: PLACING ATOMS IN PATCHES BY HYDROGEN GROUPS\n",
            "Info: RIGID BONDS TO HYDROGEN : ALL\n",
            "Info:         ERROR TOLERANCE : 1e-08\n",
            "Info:          MAX ITERATIONS : 100\n",
            "Info: RIGID WATER USING SETTLE ALGORITHM\n",
            "Info: RANDOM NUMBER SEED     1673779171\n",
            "Info: USE HYDROGEN BONDS?    NO\n",
            "Info: COORDINATE PDB         /content/ubq_ws.pdb\n",
            "Info: STRUCTURE FILE         /content/ubq_ws.psf\n",
            "Info: PARAMETER file: CHARMM format! \n",
            "Info: PARAMETERS             /content/top.inp\n",
            "Info: USING ARITHMETIC MEAN TO COMBINE L-J SIGMA PARAMETERS\n",
            "FATAL ERROR: UNKNOWN PARAMETER IN CHARMM PARAMETER FILE /content/top.inp\n",
            "LINE=*MASS     1 H      1.00800 H ! polar H*\n",
            "FATAL ERROR: UNKNOWN PARAMETER IN CHARMM PARAMETER FILE /content/top.inp\n",
            "LINE=*MASS     1 H      1.00800 H ! polar H*\n",
            "[Partition 0][Node 0] End of program\n"
          ]
        }
      ]
    },
    {
      "cell_type": "code",
      "source": [
        "!/content/NAMD_2.14_Linux-x86_64-multicore-CUDA/namd2 +p2 /content/drive/MyDrive/1AKI/namd/step4_equilibration.inp"
      ],
      "metadata": {
        "colab": {
          "base_uri": "https://localhost:8080/"
        },
        "id": "3gTCaXCE_2rW",
        "outputId": "0a0275e8-e2e1-4d71-8f26-077a607daab0"
      },
      "execution_count": 13,
      "outputs": [
        {
          "output_type": "stream",
          "name": "stdout",
          "text": [
            "/bin/bash: /content/NAMD_2.14_Linux-x86_64-multicore-CUDA/namd2: No such file or directory\n"
          ]
        }
      ]
    }
  ]
}