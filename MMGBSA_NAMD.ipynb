{
  "nbformat": 4,
  "nbformat_minor": 0,
  "metadata": {
    "colab": {
      "provenance": [],
      "include_colab_link": true
    },
    "kernelspec": {
      "display_name": "Python 3",
      "name": "python3"
    },
    "accelerator": "GPU"
  },
  "cells": [
    {
      "cell_type": "markdown",
      "metadata": {
        "id": "view-in-github",
        "colab_type": "text"
      },
      "source": [
        "<a href=\"https://colab.research.google.com/github/purnawanpp/NAMD-on-Google-Colab/blob/main/MMGBSA_NAMD.ipynb\" target=\"_parent\"><img src=\"https://colab.research.google.com/assets/colab-badge.svg\" alt=\"Open In Colab\"/></a>"
      ]
    },
    {
      "cell_type": "markdown",
      "source": [
        "# MMPGSA Calculation in NAMD3 using https://molaical.github.io/"
      ],
      "metadata": {
        "id": "PR_D8gq-1gTB"
      }
    },
    {
      "cell_type": "markdown",
      "source": [
        "**Installation VMD 1.9.4**"
      ],
      "metadata": {
        "id": "TG0FIhED0uaq"
      }
    },
    {
      "cell_type": "code",
      "execution_count": null,
      "source": [
        "%%bash\n",
        "wget https://www.ks.uiuc.edu/Research/vmd/vmd-1.9.4/files/alpha/vmd-1.9.4a51.bin.LINUXAMD64-CUDA102-OptiX650-OSPRay185.opengl.tar.gz\n",
        "tar -zxf vmd-1.9.4a51.bin.LINUXAMD64-CUDA102-OptiX650-OSPRay185.opengl.tar.gz\n",
        "cd vmd-1.9.4a51/\n",
        "./configure\n",
        "cd src\n",
        "sudo make install"
      ],
      "outputs": [],
      "metadata": {
        "id": "_ICF7_j8f4T7"
      }
    },
    {
      "cell_type": "code",
      "execution_count": null,
      "source": [
        "!vmd"
      ],
      "outputs": [
        {
          "output_type": "stream",
          "name": "stdout",
          "text": [
            "/usr/local/lib/vmd/vmd_LINUXAMD64: /usr/lib64-nvidia/libGL.so.1: no version information available (required by /usr/local/lib/vmd/vmd_LINUXAMD64)\n",
            "Info) VMD for LINUXAMD64, version 1.9.4a51 (December 21, 2020)\n",
            "Info) http://www.ks.uiuc.edu/Research/vmd/                         \n",
            "Info) Email questions and bug reports to vmd@ks.uiuc.edu           \n",
            "Info) Please include this reference in published work using VMD:   \n",
            "Info)    Humphrey, W., Dalke, A. and Schulten, K., `VMD - Visual   \n",
            "Info)    Molecular Dynamics', J. Molec. Graphics 1996, 14.1, 33-38.\n",
            "Info) -------------------------------------------------------------\n",
            "Info) Multithreading available, 2 CPUs detected.\n",
            "Info)   CPU features: SSE2 SSE4.1 AVX AVX2 FMA F16 HT \n",
            "Info)   Detected VM or hypervisor execution environment\n",
            "Info) Free system memory: 12GB (93%)\n",
            "Info) Creating CUDA device pool and initializing hardware...\n",
            "Info) Detected 1 available CUDA accelerator::\n",
            "Info) [0] Tesla T4             40 SM_7.5 1.6 GHz, 15GB RAM SP32 AE3 ZC\n",
            "Info) Detected 1 available TachyonL/OptiX ray tracing accelerator\n",
            "Info)   Compiling  OptiX shaders on 1 target GPU...\n",
            "Info) Dynamically loaded 3 plugins in directory:\n",
            "Info) /usr/local/lib/vmd/plugins/LINUXAMD64/molfile\n",
            "vmd > "
          ]
        }
      ],
      "metadata": {
        "id": "VNmNIQwMgHDD",
        "colab": {
          "base_uri": "https://localhost:8080/"
        },
        "outputId": "1a212ca0-aade-4101-889b-0e9cb4262b48"
      }
    },
    {
      "cell_type": "code",
      "execution_count": 2,
      "source": [
        "from google.colab import drive\n",
        "drive.mount('/content/drive')"
      ],
      "outputs": [
        {
          "output_type": "stream",
          "name": "stdout",
          "text": [
            "Mounted at /content/drive\n"
          ]
        }
      ],
      "metadata": {
        "id": "mg5-uV9OnHkh",
        "colab": {
          "base_uri": "https://localhost:8080/"
        },
        "outputId": "0d7312cd-6f70-42b3-8819-912367bfde30"
      }
    },
    {
      "cell_type": "markdown",
      "source": [
        "**Download and install NAMD3**"
      ],
      "metadata": {
        "id": "iJa0QiKX4Mec"
      }
    },
    {
      "cell_type": "code",
      "execution_count": 1,
      "source": [
        "!wget https://www.ks.uiuc.edu/Research/namd/alpha/3.0alpha/download/NAMD_3.0alpha13_Linux-x86_64-multicore-CUDA-SingleNode.tar.gz"
      ],
      "outputs": [
        {
          "output_type": "stream",
          "name": "stdout",
          "text": [
            "--2023-01-16 15:35:18--  https://www.ks.uiuc.edu/Research/namd/alpha/3.0alpha/download/NAMD_3.0alpha13_Linux-x86_64-multicore-CUDA-SingleNode.tar.gz\n",
            "Resolving www.ks.uiuc.edu (www.ks.uiuc.edu)... 130.126.120.43\n",
            "Connecting to www.ks.uiuc.edu (www.ks.uiuc.edu)|130.126.120.43|:443... connected.\n",
            "HTTP request sent, awaiting response... 200 OK\n",
            "Length: 240222547 (229M) [application/x-gzip]\n",
            "Saving to: ‘NAMD_3.0alpha13_Linux-x86_64-multicore-CUDA-SingleNode.tar.gz’\n",
            "\n",
            "NAMD_3.0alpha13_Lin 100%[===================>] 229.09M  13.2MB/s    in 19s     \n",
            "\n",
            "2023-01-16 15:35:42 (12.0 MB/s) - ‘NAMD_3.0alpha13_Linux-x86_64-multicore-CUDA-SingleNode.tar.gz’ saved [240222547/240222547]\n",
            "\n"
          ]
        }
      ],
      "metadata": {
        "id": "Bv4IIB-OqgIs",
        "colab": {
          "base_uri": "https://localhost:8080/"
        },
        "outputId": "887a88d4-78b9-475f-9624-a1b805ac6162"
      }
    },
    {
      "cell_type": "code",
      "execution_count": 3,
      "source": [
        "!tar -zxf /content/NAMD_3.0alpha13_Linux-x86_64-multicore-CUDA-SingleNode.tar.gz"
      ],
      "outputs": [],
      "metadata": {
        "id": "TB0p4TlGqkXi"
      }
    },
    {
      "cell_type": "markdown",
      "source": [
        "**Running Complex.conf**"
      ],
      "metadata": {
        "id": "TrG4OhhT03eM"
      }
    },
    {
      "cell_type": "code",
      "execution_count": 72,
      "source": [
        "!/content/NAMD_3.0alpha13_Linux-x86_64-multicore-CUDA/namd3 /content/drive/MyDrive/Namd_latihan/complex.conf > /content/drive/MyDrive/Namd_latihan/complex.log"
      ],
      "outputs": [],
      "metadata": {
        "id": "osCb8g67qpVT"
      }
    },
    {
      "cell_type": "markdown",
      "source": [
        "**Running Protein.conf**"
      ],
      "metadata": {
        "id": "Zhklf9v31C7_"
      }
    },
    {
      "cell_type": "code",
      "execution_count": 75,
      "source": [
        "!/content/NAMD_3.0alpha13_Linux-x86_64-multicore-CUDA/namd3 /content/drive/MyDrive/Namd_latihan/protein.conf > /content/drive/MyDrive/Namd_latihan/protein.log"
      ],
      "outputs": [],
      "metadata": {
        "id": "LYv1MtamtSWO"
      }
    },
    {
      "cell_type": "markdown",
      "source": [
        "**Running Ligand.conf**"
      ],
      "metadata": {
        "id": "DwqL4VmH08Xz"
      }
    },
    {
      "cell_type": "code",
      "execution_count": 74,
      "source": [
        "!/content/NAMD_3.0alpha13_Linux-x86_64-multicore-CUDA/namd3 /content/drive/MyDrive/Namd_latihan/ligand.conf > /content/drive/MyDrive/Namd_latihan/ligand.log"
      ],
      "outputs": [],
      "metadata": {
        "id": "HIV1QWGRrCmP"
      }
    }
  ]
}