{
  "nbformat": 4,
  "nbformat_minor": 0,
  "metadata": {
    "colab": {
      "provenance": [],
      "include_colab_link": true
    },
    "kernelspec": {
      "display_name": "Python 3",
      "name": "python3"
    },
    "accelerator": "GPU",
    "gpuClass": "standard"
  },
  "cells": [
    {
      "cell_type": "markdown",
      "metadata": {
        "id": "view-in-github",
        "colab_type": "text"
      },
      "source": [
        "<a href=\"https://colab.research.google.com/github/purnawanpp/NAMD-MMPBGBSA/blob/main/MMGBSA_NAMD.ipynb\" target=\"_parent\"><img src=\"https://colab.research.google.com/assets/colab-badge.svg\" alt=\"Open In Colab\"/></a>"
      ]
    },
    {
      "cell_type": "markdown",
      "source": [
        "# MMGSA Calculation in NAMD3 using https://molaical.github.io/"
      ],
      "metadata": {
        "id": "PR_D8gq-1gTB"
      }
    },
    {
      "cell_type": "markdown",
      "source": [
        "**Connected to your Google Drive**"
      ],
      "metadata": {
        "id": "YP3OAcgoRzvf"
      }
    },
    {
      "cell_type": "code",
      "execution_count": null,
      "source": [
        "from google.colab import drive\n",
        "drive.mount('/content/drive')"
      ],
      "outputs": [
        {
          "output_type": "stream",
          "name": "stdout",
          "text": [
            "Mounted at /content/drive\n"
          ]
        }
      ],
      "metadata": {
        "id": "mg5-uV9OnHkh",
        "colab": {
          "base_uri": "https://localhost:8080/"
        },
        "outputId": "32f230aa-ef9b-4505-ed06-55e3011b3517"
      }
    },
    {
      "cell_type": "markdown",
      "source": [
        "**Installation VMD 1.9.4**"
      ],
      "metadata": {
        "id": "TG0FIhED0uaq"
      }
    },
    {
      "cell_type": "code",
      "execution_count": null,
      "source": [
        "%%bash\n",
        "wget https://www.ks.uiuc.edu/Research/vmd/vmd-1.9.4/files/alpha/vmd-1.9.4a51.bin.LINUXAMD64-CUDA102-OptiX650-OSPRay185.opengl.tar.gz\n",
        "tar -zxf vmd-1.9.4a51.bin.LINUXAMD64-CUDA102-OptiX650-OSPRay185.opengl.tar.gz\n",
        "cd vmd-1.9.4a51/\n",
        "./configure\n",
        "cd src\n",
        "sudo make install"
      ],
      "outputs": [],
      "metadata": {
        "id": "_ICF7_j8f4T7"
      }
    },
    {
      "cell_type": "code",
      "execution_count": null,
      "source": [
        "!vmd"
      ],
      "outputs": [
        {
          "output_type": "stream",
          "name": "stdout",
          "text": [
            "/usr/local/lib/vmd/vmd_LINUXAMD64: /usr/lib64-nvidia/libGL.so.1: no version information available (required by /usr/local/lib/vmd/vmd_LINUXAMD64)\n",
            "Info) VMD for LINUXAMD64, version 1.9.4a51 (December 21, 2020)\n",
            "Info) http://www.ks.uiuc.edu/Research/vmd/                         \n",
            "Info) Email questions and bug reports to vmd@ks.uiuc.edu           \n",
            "Info) Please include this reference in published work using VMD:   \n",
            "Info)    Humphrey, W., Dalke, A. and Schulten, K., `VMD - Visual   \n",
            "Info)    Molecular Dynamics', J. Molec. Graphics 1996, 14.1, 33-38.\n",
            "Info) -------------------------------------------------------------\n",
            "Info) Multithreading available, 2 CPUs detected.\n",
            "Info)   CPU features: SSE2 SSE4.1 AVX AVX2 FMA F16 HT \n",
            "Info)   Detected VM or hypervisor execution environment\n",
            "Info) Free system memory: 12GB (93%)\n",
            "Info) Creating CUDA device pool and initializing hardware...\n",
            "Info) Detected 1 available CUDA accelerator::\n",
            "Info) [0] Tesla T4             40 SM_7.5 1.6 GHz, 15GB RAM SP32 AE3 ZC\n",
            "Info) Detected 1 available TachyonL/OptiX ray tracing accelerator\n",
            "Info)   Compiling  OptiX shaders on 1 target GPU...\n",
            "Info) Dynamically loaded 3 plugins in directory:\n",
            "Info) /usr/local/lib/vmd/plugins/LINUXAMD64/molfile\n",
            "vmd > "
          ]
        }
      ],
      "metadata": {
        "id": "VNmNIQwMgHDD",
        "colab": {
          "base_uri": "https://localhost:8080/"
        },
        "outputId": "1a212ca0-aade-4101-889b-0e9cb4262b48"
      }
    },
    {
      "cell_type": "markdown",
      "source": [
        "Please running this command in vmd terminal to get file complex.log, protein.log, and ligand.log, using command cd and ls to open your google drive file:\n",
        "\n",
        "\n",
        "*   vmd -dispdev text -psf \"step3_input.psf\" -e stripDCD.vmd -args protein,or,resname,JZ4 \"step5_production.dcd\" \"complex\" step3_input.psf step3_input.pdb\n",
        "\n",
        "*   vmd -dispdev text -psf \"step3_input.psf\" -e stripDCD.vmd -args protein \"step5_production.dcd\" \"protein\" step3_input.psf step3_input.pdb\n",
        "\n",
        "*  vmd -dispdev text -psf \"step3_input.psf\" -e stripDCD.vmd -args resname,JZ4 \"step5_production.dcd\" \"ligand\" step3_input.psf step3_input.pdb\n",
        "\n"
      ],
      "metadata": {
        "id": "rEFi10YSRN9J"
      }
    },
    {
      "cell_type": "markdown",
      "source": [
        "**Download and install NAMD3**"
      ],
      "metadata": {
        "id": "iJa0QiKX4Mec"
      }
    },
    {
      "cell_type": "code",
      "execution_count": null,
      "source": [
        "!wget https://www.ks.uiuc.edu/Research/namd/alpha/3.0alpha/download/NAMD_3.0alpha13_Linux-x86_64-multicore-CUDA-SingleNode.tar.gz"
      ],
      "outputs": [
        {
          "output_type": "stream",
          "name": "stdout",
          "text": [
            "--2023-01-16 15:35:18--  https://www.ks.uiuc.edu/Research/namd/alpha/3.0alpha/download/NAMD_3.0alpha13_Linux-x86_64-multicore-CUDA-SingleNode.tar.gz\n",
            "Resolving www.ks.uiuc.edu (www.ks.uiuc.edu)... 130.126.120.43\n",
            "Connecting to www.ks.uiuc.edu (www.ks.uiuc.edu)|130.126.120.43|:443... connected.\n",
            "HTTP request sent, awaiting response... 200 OK\n",
            "Length: 240222547 (229M) [application/x-gzip]\n",
            "Saving to: ‘NAMD_3.0alpha13_Linux-x86_64-multicore-CUDA-SingleNode.tar.gz’\n",
            "\n",
            "NAMD_3.0alpha13_Lin 100%[===================>] 229.09M  13.2MB/s    in 19s     \n",
            "\n",
            "2023-01-16 15:35:42 (12.0 MB/s) - ‘NAMD_3.0alpha13_Linux-x86_64-multicore-CUDA-SingleNode.tar.gz’ saved [240222547/240222547]\n",
            "\n"
          ]
        }
      ],
      "metadata": {
        "id": "Bv4IIB-OqgIs",
        "colab": {
          "base_uri": "https://localhost:8080/"
        },
        "outputId": "887a88d4-78b9-475f-9624-a1b805ac6162"
      }
    },
    {
      "cell_type": "code",
      "execution_count": null,
      "source": [
        "!tar -zxf /content/NAMD_3.0alpha13_Linux-x86_64-multicore-CUDA-SingleNode.tar.gz"
      ],
      "outputs": [],
      "metadata": {
        "id": "TB0p4TlGqkXi"
      }
    },
    {
      "cell_type": "markdown",
      "source": [
        "**Running Complex.conf**"
      ],
      "metadata": {
        "id": "TrG4OhhT03eM"
      }
    },
    {
      "cell_type": "code",
      "execution_count": null,
      "source": [
        "!/content/NAMD_3.0alpha13_Linux-x86_64-multicore-CUDA/namd3 /content/drive/MyDrive/Namd_latihan/complex.conf > /content/drive/MyDrive/Namd_latihan/complex.log"
      ],
      "outputs": [],
      "metadata": {
        "id": "osCb8g67qpVT"
      }
    },
    {
      "cell_type": "markdown",
      "source": [
        "**Running Protein.conf**"
      ],
      "metadata": {
        "id": "Zhklf9v31C7_"
      }
    },
    {
      "cell_type": "code",
      "execution_count": null,
      "source": [
        "!/content/NAMD_3.0alpha13_Linux-x86_64-multicore-CUDA/namd3 /content/drive/MyDrive/Namd_latihan/protein.conf > /content/drive/MyDrive/Namd_latihan/protein.log"
      ],
      "outputs": [],
      "metadata": {
        "id": "LYv1MtamtSWO"
      }
    },
    {
      "cell_type": "markdown",
      "source": [
        "**Running Ligand.conf**"
      ],
      "metadata": {
        "id": "DwqL4VmH08Xz"
      }
    },
    {
      "cell_type": "code",
      "execution_count": null,
      "source": [
        "!/content/NAMD_3.0alpha13_Linux-x86_64-multicore-CUDA/namd3 /content/drive/MyDrive/Namd_latihan/ligand.conf > /content/drive/MyDrive/Namd_latihan/ligand.log"
      ],
      "outputs": [],
      "metadata": {
        "id": "HIV1QWGRrCmP"
      }
    },
    {
      "cell_type": "code",
      "source": [
        "!wget https://download936.mediafire.com/lkh76qzz10ag/azoj8uaqtwcb7g9/MolAICal-linux64-v1.3.tar.gz"
      ],
      "metadata": {
        "id": "agwXRptAk8nm",
        "outputId": "846bcd4e-e9bb-4661-afa6-c1a0e73cf67a",
        "colab": {
          "base_uri": "https://localhost:8080/"
        }
      },
      "execution_count": null,
      "outputs": [
        {
          "output_type": "stream",
          "name": "stdout",
          "text": [
            "--2023-01-17 07:21:15--  https://download936.mediafire.com/lkh76qzz10ag/azoj8uaqtwcb7g9/MolAICal-linux64-v1.3.tar.gz\n",
            "Resolving download936.mediafire.com (download936.mediafire.com)... 205.196.121.131\n",
            "Connecting to download936.mediafire.com (download936.mediafire.com)|205.196.121.131|:443... connected.\n",
            "HTTP request sent, awaiting response... 200 OK\n",
            "Length: 1212329615 (1.1G) [application/x-gzip]\n",
            "Saving to: ‘MolAICal-linux64-v1.3.tar.gz.1’\n",
            "\n",
            "MolAICal-linux64-v1 100%[===================>]   1.13G  10.9MB/s    in 1m 56s  \n",
            "\n",
            "2023-01-17 07:23:11 (9.99 MB/s) - ‘MolAICal-linux64-v1.3.tar.gz.1’ saved [1212329615/1212329615]\n",
            "\n"
          ]
        }
      ]
    },
    {
      "cell_type": "code",
      "source": [
        "!tar -zxf /content/MolAICal-linux64-v1.3.tar.gz"
      ],
      "metadata": {
        "id": "0VrMIuA6mqNd"
      },
      "execution_count": null,
      "outputs": []
    },
    {
      "cell_type": "code",
      "source": [
        "!/content/MolAICal-linux64/molaical.exe"
      ],
      "metadata": {
        "id": "Z9Mz7O0KnrQD",
        "outputId": "20fbc0d7-5bc7-439d-8601-fab99ed9b700",
        "colab": {
          "base_uri": "https://localhost:8080/"
        }
      },
      "execution_count": null,
      "outputs": [
        {
          "output_type": "stream",
          "name": "stdout",
          "text": [
            "# Project leader: Qifeng Bai, the official site of MolAICal: https://molaical.github.io or https://molaical.gitee.io #\n",
            "\n",
            "The parameter can not be found, please input the right parameter.\n"
          ]
        }
      ]
    },
    {
      "cell_type": "code",
      "source": [
        "!cd /content/drive/MyDrive/Namd_latihan/"
      ],
      "metadata": {
        "id": "Mkvdw5qloiWt"
      },
      "execution_count": null,
      "outputs": []
    },
    {
      "cell_type": "code",
      "source": [
        "ls"
      ],
      "metadata": {
        "id": "tL16ueRoongp",
        "outputId": "41026c2b-c55b-4703-d77e-06851b51c4ad",
        "colab": {
          "base_uri": "https://localhost:8080/"
        }
      },
      "execution_count": null,
      "outputs": [
        {
          "output_type": "stream",
          "name": "stdout",
          "text": [
            "complex.conf      complex.xsc.BAK  lig.vel               protein.log\n",
            "complex.coor      \u001b[0m\u001b[01;34mjz4\u001b[0m/             lig.vel.BAK           protein.pdb\n",
            "complex.coor.BAK  ligand.conf      lig.xsc               protein.psf\n",
            "complex.dcd       ligand.dcd       lig.xsc.BAK           protein.vel\n",
            "complex.log       ligand.log       par_all36_cgenff.prm  protein.vel.BAK\n",
            "complex.pdb       ligand.pdb       par_all36_prot.prm    protein.xsc\n",
            "complex.psf       ligand.psf       protein.conf          protein.xsc.BAK\n",
            "complex.vel       ligand.str       protein.coor          \u001b[01;34mrestraints\u001b[0m/\n",
            "complex.vel.BAK   lig.coor         protein.coor.BAK      \u001b[01;34mtoppar\u001b[0m/\n",
            "complex.xsc       lig.coor.BAK     protein.dcd           toppar_water_ions.str\n"
          ]
        }
      ]
    },
    {
      "cell_type": "code",
      "source": [
        "!/content/MolAICal-linux64/molaical.exe -mmgbsa -c \"complex.log\" -r \"protein.log\" -l \"ligand.log\""
      ],
      "metadata": {
        "id": "6T2yuCjQoFuN",
        "outputId": "d995fbed-1efb-4e3e-f74f-726425951c86",
        "colab": {
          "base_uri": "https://localhost:8080/"
        }
      },
      "execution_count": null,
      "outputs": [
        {
          "output_type": "stream",
          "name": "stdout",
          "text": [
            "# Project leader: Qifeng Bai, the official site of MolAICal: https://molaical.github.io or https://molaical.gitee.io #\n",
            "\n",
            "There is no suitable character encoding for reading! The default UTF-8 is used.\n",
            "Total run 100 frames from complex.log.\n",
            "Average BOND: 635.8314\n",
            "Average ANGLE: 1,583.4594\n",
            "Average DIHED: 1,540.21\n",
            "Average IMPRP: 98.1939\n",
            "Average ELECT: -7,347.7037\n",
            "Average VDW: -677.4991\n",
            "###############################\n",
            "\n",
            "Total run 100 frames from protein.log.\n",
            "Average BOND: 630.8754\n",
            "Average ANGLE: 1,574.519\n",
            "Average DIHED: 1,535.5001\n",
            "Average IMPRP: 98.1939\n",
            "Average ELECT: -7,349.0975\n",
            "Average VDW: -662.9969\n",
            "###############################\n",
            "\n",
            "Total run 100 frames from ligand.log.\n",
            "Average BOND: 4.956\n",
            "Average ANGLE: 8.9404\n",
            "Average DIHED: 4.7099\n",
            "Average IMPRP: 0\n",
            "Average ELECT: -2.7467\n",
            "Average VDW: 10.9454\n",
            "###############################\n",
            "\n",
            "delta E(internal): -0\n",
            "delta E(electrostatic) + deltaG(sol): 4.1405\n",
            "delta E(VDW): -25.4476\n",
            "delta G binding: -21.3071  +/-  0.2067 (kcal/mol)\n"
          ]
        }
      ]
    }
  ]
}